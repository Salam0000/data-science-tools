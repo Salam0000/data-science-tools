{
 "cells": [
  {
   "cell_type": "markdown",
   "id": "cf16c85b",
   "metadata": {},
   "source": [
    "# Data Science Tools and Ecosystem"
   ]
  },
  {
   "cell_type": "markdown",
   "id": "b2032146",
   "metadata": {},
   "source": [
    "In this notebook, Data Science Tools and Ecosystem are summarized."
   ]
  },
  {
   "cell_type": "markdown",
   "id": "fb638fd4",
   "metadata": {},
   "source": [
    "Some of the popular languages that Data Scientists use are:\n",
    "1. Python\n",
    "2. R\n",
    "3. SQL\n",
    "4. Scala\n",
    "5. java\n",
    "6. C++\n",
    "7. Julia\n",
    "8. Javascript\n",
    "9. PHP\n",
    "10. Go\n",
    "11. Ruby\n",
    "12. Visual Basic"
   ]
  },
  {
   "cell_type": "markdown",
   "id": "b8853ec4",
   "metadata": {},
   "source": [
    "Some of the commonly used libraries used by Data Scientists include:\n",
    "1. Panadas\n",
    "2. Numpy\n",
    "3. Matplotlib\n",
    "4. Seaborn\n",
    "5. Scikit-learn\n",
    "6. keras\n",
    "7. Tensorflow\n",
    "8. PyToCh\n",
    "9. ggplot\n",
    "10. VEGAS"
   ]
  },
  {
   "cell_type": "markdown",
   "id": "1dee8577",
   "metadata": {},
   "source": [
    "|Data Science Tools|\n",
    "|------------------|\n",
    "|Jupter Notebooks|\n",
    "|R studio|\n",
    "|Spark|"
   ]
  },
  {
   "cell_type": "markdown",
   "id": "9821dd3b",
   "metadata": {},
   "source": [
    "### Below are a few examples of evaluating arithmetic expressions in Python\n",
    "expression : any combination of items such as variable ,literals, operators and pararhesis.\n",
    "we read the expresion from left to right.\n",
    "literals : values.\n",
    "operators : +, -, *,/ ,** .\n",
    "\n",
    "Examples:\n",
    "x = 1;\n",
    "y = 2;\n",
    "z= x + y;\n"
   ]
  },
  {
   "cell_type": "code",
   "execution_count": 4,
   "id": "04568ca8",
   "metadata": {},
   "outputs": [
    {
     "data": {
      "text/plain": [
       "17"
      ]
     },
     "execution_count": 4,
     "metadata": {},
     "output_type": "execute_result"
    }
   ],
   "source": [
    "#  This a simple arithmetic expression to mutiply then add integers\n",
    "(3*4)+5"
   ]
  },
  {
   "cell_type": "code",
   "execution_count": 5,
   "id": "df219f2b",
   "metadata": {},
   "outputs": [
    {
     "name": "stdout",
     "output_type": "stream",
     "text": [
      "3.3333333333333335\n"
     ]
    }
   ],
   "source": [
    "# This will convert 200 minutes to hours by diving by 60\n",
    "minutes = 200;\n",
    "hours= minutes/60;\n",
    "print(hours)"
   ]
  },
  {
   "cell_type": "markdown",
   "id": "952371d7",
   "metadata": {},
   "source": [
    "** Objectives: **\n",
    "* List popular languages for Data Science\n",
    "* List popular librarys for Data Science\n",
    "* Version control Git\n",
    "* Representational state transfer REST API"
   ]
  },
  {
   "cell_type": "markdown",
   "id": "e388179e",
   "metadata": {},
   "source": [
    "## Author \n",
    "Salam Haitham Alshami"
   ]
  },
  {
   "cell_type": "code",
   "execution_count": null,
   "id": "4790803d",
   "metadata": {},
   "outputs": [],
   "source": []
  }
 ],
 "metadata": {
  "kernelspec": {
   "display_name": "Python 3",
   "language": "python",
   "name": "python3"
  },
  "language_info": {
   "codemirror_mode": {
    "name": "ipython",
    "version": 3
   },
   "file_extension": ".py",
   "mimetype": "text/x-python",
   "name": "python",
   "nbconvert_exporter": "python",
   "pygments_lexer": "ipython3",
   "version": "3.8.8"
  }
 },
 "nbformat": 4,
 "nbformat_minor": 5
}
